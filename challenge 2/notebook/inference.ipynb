
# Soil Image Classification - Inference

## 1. Setup & Imports
```python
import os
import pandas as pd
from PIL import Image
import torch
import torch.nn as nn
from torch.utils.data import Dataset, DataLoader
from torchvision import transforms, models
```

## 2. Paths & Load IDs
```python
test_dir = '/kaggle/input/soil-classification-part-2/soil_competition-2025/test'
test_ids_path = '/kaggle/input/soil-classification-part-2/soil_competition-2025/test_ids.csv'
test_ids = pd.read_csv(test_ids_path)
```

## 3. Transforms & Dataset
```python
val_transform = transforms.Compose([
    transforms.Resize((224, 224)),
    transforms.ToTensor(),
    transforms.Normalize([0.5], [0.5])
])

class TestDataset(Dataset):
    def __init__(self, ids, img_dir, transform=None):
        self.ids = ids
        self.img_dir = img_dir
        self.transform = transform

    def __len__(self):
        return len(self.ids)

    def __getitem__(self, idx):
        img_name = self.ids.loc[idx, 'image_id']
        img_path = os.path.join(self.img_dir, img_name)
        image = Image.open(img_path).convert('RGB')
        if self.transform:
            image = self.transform(image)
        return image, img_name

test_dataset = TestDataset(test_ids, test_dir, transform=val_transform)
test_loader = DataLoader(test_dataset, batch_size=32, shuffle=False)
```

## 4. Load Model
```python
device = torch.device("cuda" if torch.cuda.is_available() else "cpu")
model = models.efficientnet_b0(weights=models.EfficientNet_B0_Weights.DEFAULT)
model.classifier[1] = nn.Linear(model.classifier[1].in_features, 1)
model.load_state_dict(torch.load("soil_model.pth", map_location=device))
model.to(device)
model.eval()
```

## 5. Predict & Save Submission
```python
predictions = []
with torch.no_grad():
    for images, image_names in test_loader:
        images = images.to(device)
        outputs = model(images)
        probs = torch.sigmoid(outputs)
        preds = (probs > 0.5).int().cpu().numpy().flatten()
        for img_name, pred in zip(image_names, preds):
            predictions.append((img_name, pred))

submission = pd.DataFrame(predictions, columns=['image_id', 'label'])
submission.to_csv("submission.csv", index=False)
print("✅ submission.csv saved.")
```
